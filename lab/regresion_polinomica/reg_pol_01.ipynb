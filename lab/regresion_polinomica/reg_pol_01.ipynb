{
 "cells": [
  {
   "cell_type": "code",
   "execution_count": 140,
   "metadata": {},
   "outputs": [],
   "source": [
    "# Regresion lineal con multiples variables\n",
    "\n",
    "import numpy as np \n",
    "import matplotlib.pyplot as plt\n",
    "\n",
    "def calcularCosto(X, y, theta):\n",
    "    J = 0\n",
    "    s = np.power((X.dot(theta) - np.transpose([y])), 2)\n",
    "    #print(\"INICIO DENTRO COSTO\")\n",
    "    #print(s)\n",
    "    #print(s.sum(axis = 0))\n",
    "    #print(\"FIN DENTRO COSTO\")\n",
    "    J = (1.0 / (2 * m)) * s.sum(axis = 0)\n",
    "\n",
    "    return J\n",
    "\n",
    "def descensoGradienteMulti(X, y, theta, alpha, num_iteraciones):\n",
    "    m = len(y) # numero de ejemplos de entrenamiento\n",
    "    J_history = np.zeros((num_iteraciones, 1))\n",
    "\n",
    "    for i in range(num_iteraciones):\n",
    "        theta = theta - alpha * (1.0 / m) * np.transpose(X).dot(X.dot(theta) - np.transpose([y]))\n",
    "        # Guardar el costo de J en cada iteracion \n",
    "        J_history[i] = calcularCosto(X, y, theta)\n",
    "        # print(J_history[i])\n",
    "\n",
    "    return theta, J_history\n",
    "\n",
    "def normalizarCaracteristicas(X):\n",
    "    # Se requiere establecer los valores de manera correcta\n",
    "    X_norm = X\n",
    "    mu = np.zeros((1, X.shape[1]))\n",
    "    sigma = np.zeros((1, X.shape[1]))\n",
    "\n",
    "    for i in range(X.shape[1]):\n",
    "    \tmu[:, i] = np.mean(X[:, i])\n",
    "    \tsigma[:, i] = np.std(X[:, i])\n",
    "    \tX_norm[:, i] = (X[:, i] - float(mu[:, i])) / float(sigma[:, i])\n",
    "\n",
    "    return X_norm, mu, sigma\n"
   ]
  },
  {
   "cell_type": "code",
   "execution_count": 141,
   "metadata": {},
   "outputs": [
    {
     "name": "stdout",
     "output_type": "stream",
     "text": [
      "Cargando datos ...\n",
      "\n",
      "[[ 15.   5.]\n",
      " [ 16.   6.]\n",
      " [ 20.  20.]\n",
      " [ 21.  30.]\n",
      " [ 25.  40.]\n",
      " [ 28.  45.]\n",
      " [ 30.  50.]\n",
      " [ 33.  60.]\n",
      " [ 35.  80.]\n",
      " [ 38.  98.]\n",
      " [ 40. 102.]\n",
      " [ 45. 100.]\n",
      " [ 49. 101.]\n",
      " [ 54.  95.]\n",
      " [ 57.  90.]\n",
      " [ 63.  86.]\n",
      " [ 65.  80.]\n",
      " [ 68.  65.]\n",
      " [ 70.  50.]\n",
      " [ 75.  35.]\n",
      " [ 78.  30.]\n",
      " [ 80.  26.]\n",
      " [ 83.  20.]\n",
      " [ 85.  15.]\n",
      " [ 88.   5.]]\n"
     ]
    }
   ],
   "source": [
    "print('Cargando datos ...\\n')\n",
    "data = np.loadtxt('dsPolCuad.txt', delimiter=\",\")\n",
    "print(data)"
   ]
  },
  {
   "cell_type": "code",
   "execution_count": 142,
   "metadata": {},
   "outputs": [
    {
     "name": "stdout",
     "output_type": "stream",
     "text": [
      "(25, 1)\n",
      "(25, 1)\n",
      "(25, 2)\n",
      "Primeros 10 ejemplos del dataset: \n",
      "\n",
      "x = [15 225], y = 5\n",
      "x = [16 256], y = 6\n",
      "x = [20 400], y = 20\n",
      "x = [21 441], y = 30\n",
      "x = [25 625], y = 40\n",
      "x = [28 784], y = 45\n",
      "x = [30 900], y = 50\n",
      "x = [33 1089], y = 60\n",
      "x = [35 1225], y = 80\n",
      "x = [38 1444], y = 98\n"
     ]
    },
    {
     "data": {
      "text/plain": [
       "Text(0, 0.5, 'X2')"
      ]
     },
     "execution_count": 142,
     "metadata": {},
     "output_type": "execute_result"
    },
    {
     "data": {
      "image/png": "[encoded data removed]",
      "text/plain": [
       "<Figure size 432x288 with 1 Axes>"
      ]
     },
     "metadata": {
      "needs_background": "light"
     },
     "output_type": "display_data"
    }
   ],
   "source": [
    "X = data[:, :1]\n",
    "y = data[:, 1]\n",
    "print(X.shape)\n",
    "#print(X)\n",
    "newColumn = np.power(X[:, 0], 2)[...,None]\n",
    "print(newColumn.shape)\n",
    "X_x2agregado = np.append(X, newColumn, 1)\n",
    "print(X_x2agregado.shape)\n",
    "#print(X_x2agregado)\n",
    "\n",
    "#print(y)\n",
    "# Imprime algunos puntos de los datos\n",
    "print('Primeros 10 ejemplos del dataset: \\n')\n",
    "for i in range(10):\n",
    "    print (\"x = [{:.0f} {:.0f}], y = {:.0f}\".format(X_x2agregado[i,0], X_x2agregado[i,1], y[i]))\n",
    "\n",
    "plt.plot(X_x2agregado[:,0] + X_x2agregado[:, 1], y, \"-b\", linewidth = 2)\n",
    "plt.xlabel('X')\n",
    "plt.ylabel('X2')"
   ]
  },
  {
   "cell_type": "code",
   "execution_count": 143,
   "metadata": {},
   "outputs": [
    {
     "name": "stdout",
     "output_type": "stream",
     "text": [
      "[[-1.51612785 -1.17781004]\n",
      " [-1.47334772 -1.16506851]\n",
      " [-1.30222719 -1.10588208]\n",
      " [-1.25944706 -1.08903039]\n",
      " [-1.08832654 -1.01340328]\n",
      " [-0.95998614 -0.94805159]\n",
      " [-0.87442588 -0.90037363]\n",
      " [-0.74608549 -0.82269143]\n",
      " [-0.66052522 -0.76679313]\n",
      " [-0.53218483 -0.67678043]\n",
      " [-0.44662457 -0.6126618 ]\n",
      " [-0.23272391 -0.43797961]\n",
      " [-0.06160339 -0.28343726]\n",
      " [ 0.15229727 -0.07176355]\n",
      " [ 0.28063766  0.06510508]\n",
      " [ 0.53731845  0.36103725]\n",
      " [ 0.62287871  0.46625757]\n",
      " [ 0.7512191   0.63025332]\n",
      " [ 0.83677936  0.74369398]\n",
      " [ 1.05068002  1.04168124]\n",
      " [ 1.17902041  1.230338  ]\n",
      " [ 1.26458068  1.36021934]\n",
      " [ 1.39292107  1.5612066 ]\n",
      " [ 1.47848133  1.69930828]\n",
      " [ 1.60682172  1.91262606]]\n",
      "[[  50.44 3090.6 ]]\n",
      "[[  23.37533743 2432.98996299]]\n"
     ]
    },
    {
     "data": {
      "text/plain": [
       "Text(0, 0.5, 'X2')"
      ]
     },
     "execution_count": 143,
     "metadata": {},
     "output_type": "execute_result"
    },
    {
     "data": {
      "image/png": "[encoded data removed]",
      "text/plain": [
       "<Figure size 432x288 with 1 Axes>"
      ]
     },
     "metadata": {
      "needs_background": "light"
     },
     "output_type": "display_data"
    }
   ],
   "source": [
    "X_norm, mu, sigma = normalizarCaracteristicas(X_x2agregado)\n",
    "print(X_norm)\n",
    "print(mu)\n",
    "print(sigma)\n",
    "plt.plot(X_norm[:,0] + X_norm[:, 1], y, \"-b\", linewidth = 2)\n",
    "plt.xlabel('X')\n",
    "plt.ylabel('X2')"
   ]
  },
  {
   "cell_type": "code",
   "execution_count": 144,
   "metadata": {},
   "outputs": [
    {
     "name": "stdout",
     "output_type": "stream",
     "text": [
      "[[ 1.         -1.51612785 -1.17781004]\n",
      " [ 1.         -1.47334772 -1.16506851]\n",
      " [ 1.         -1.30222719 -1.10588208]\n",
      " [ 1.         -1.25944706 -1.08903039]\n",
      " [ 1.         -1.08832654 -1.01340328]\n",
      " [ 1.         -0.95998614 -0.94805159]\n",
      " [ 1.         -0.87442588 -0.90037363]\n",
      " [ 1.         -0.74608549 -0.82269143]\n",
      " [ 1.         -0.66052522 -0.76679313]\n",
      " [ 1.         -0.53218483 -0.67678043]\n",
      " [ 1.         -0.44662457 -0.6126618 ]\n",
      " [ 1.         -0.23272391 -0.43797961]\n",
      " [ 1.         -0.06160339 -0.28343726]\n",
      " [ 1.          0.15229727 -0.07176355]\n",
      " [ 1.          0.28063766  0.06510508]\n",
      " [ 1.          0.53731845  0.36103725]\n",
      " [ 1.          0.62287871  0.46625757]\n",
      " [ 1.          0.7512191   0.63025332]\n",
      " [ 1.          0.83677936  0.74369398]\n",
      " [ 1.          1.05068002  1.04168124]\n",
      " [ 1.          1.17902041  1.230338  ]\n",
      " [ 1.          1.26458068  1.36021934]\n",
      " [ 1.          1.39292107  1.5612066 ]\n",
      " [ 1.          1.47848133  1.69930828]\n",
      " [ 1.          1.60682172  1.91262606]]\n"
     ]
    }
   ],
   "source": [
    "# Añadir término de intercepción x0 a X\n",
    "m = len(y)\n",
    "X_x0agregado = np.column_stack((np.ones((m, 1)), X_norm)) # Añadir una columna de unos a x\n",
    "print(X_x0agregado)"
   ]
  },
  {
   "cell_type": "code",
   "execution_count": 145,
   "metadata": {},
   "outputs": [
    {
     "name": "stdout",
     "output_type": "stream",
     "text": [
      "Ejecutando descenso por el gradiente ...\n",
      "[[0.]\n",
      " [0.]\n",
      " [0.]]\n",
      "[[  53.36      ]\n",
      " [ 160.84814441]\n",
      " [-165.55097047]]\n"
     ]
    }
   ],
   "source": [
    "# ================ Descenso por el gradiente ================\n",
    "print('Ejecutando descenso por el gradiente ...')\n",
    "# Se establece un valor para alpha\n",
    "alpha = 0.001\n",
    "num_iteraciones = 16000\n",
    "\n",
    "# inicializa theta y ejecuta descenso por el gradiente\n",
    "theta = np.zeros((3, 1)) \n",
    "print(theta)\n",
    "theta, J_history = descensoGradienteMulti(X_x0agregado, y, theta, alpha, num_iteraciones)\n",
    "print(theta)"
   ]
  },
  {
   "cell_type": "code",
   "execution_count": 146,
   "metadata": {},
   "outputs": [
    {
     "data": {
      "image/png": "[encoded data removed]",
      "text/plain": [
       "<Figure size 432x288 with 1 Axes>"
      ]
     },
     "metadata": {
      "needs_background": "light"
     },
     "output_type": "display_data"
    }
   ],
   "source": [
    "plt.plot(range(J_history.size), J_history, \"-b\", linewidth = 2)\n",
    "plt.xlabel('Numero de iteraciones')\n",
    "plt.ylabel('Costo J')\n",
    "plt.show(block = False)\n"
   ]
  },
  {
   "cell_type": "code",
   "execution_count": 147,
   "metadata": {},
   "outputs": [
    {
     "name": "stdout",
     "output_type": "stream",
     "text": [
      "Theta calculado a partir del descenso por el gradiente: \n",
      "53.360000, 160.848144, -165.550970\n",
      "\n",
      "-0.5321848309942042\n",
      "-0.6767804327387478\n",
      "[ 1.         -0.53218483 -0.67678043]\n",
      "[79.80071488]\n"
     ]
    }
   ],
   "source": [
    "# Mostrar los resultados del descenso por el gradiente\n",
    "print('Theta calculado a partir del descenso por el gradiente: ')\n",
    "print(\"{:f}, {:f}, {:f}\".format(theta[0, 0], theta[1, 0], theta[2, 0]))\n",
    "print(\"\")\n",
    "\n",
    "# Estimar el la capacidad rendimiento para una persona de una determinada edad\n",
    "# Recuerda que la primera columna de X es de unos, por este motivo no es \n",
    "# necesario normalizar esta columna\n",
    "\n",
    "edad_norm = (38 - float(mu[:, 0])) / float(sigma[:, 0])\n",
    "print(edad_norm)\n",
    "edad2_norm = (1444 - float(mu[:, 1])) / float(sigma[:, 1])\n",
    "print(edad2_norm)\n",
    "rend_norm_padded = np.array([1, edad_norm, edad2_norm])\n",
    "print(rend_norm_padded)\n",
    "print(rend_norm_padded.dot(theta))"
   ]
  }
 ],
 "metadata": {
  "kernelspec": {
   "display_name": "Python 3",
   "language": "python",
   "name": "python3"
  },
  "language_info": {
   "codemirror_mode": {
    "name": "ipython",
    "version": 3
   },
   "file_extension": ".py",
   "mimetype": "text/x-python",
   "name": "python",
   "nbconvert_exporter": "python",
   "pygments_lexer": "ipython3",
   "version": "3.7.3"
  }
 },
 "nbformat": 4,
 "nbformat_minor": 2
}
